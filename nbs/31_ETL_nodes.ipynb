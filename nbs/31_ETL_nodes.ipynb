{
 "cells": [
  {
   "cell_type": "markdown",
   "metadata": {},
   "source": [
    "# ETL_nodes\n",
    "\n",
    "> Nodes that can be used for the ETL pipelines"
   ]
  },
  {
   "cell_type": "code",
   "execution_count": null,
   "metadata": {},
   "outputs": [],
   "source": [
    "#| default_exp etl_nodes"
   ]
  },
  {
   "cell_type": "code",
   "execution_count": null,
   "metadata": {},
   "outputs": [],
   "source": [
    "#| hide\n",
    "from nbdev.showdoc import *"
   ]
  },
  {
   "cell_type": "code",
   "execution_count": null,
   "metadata": {},
   "outputs": [],
   "source": [
    "#| export\n",
    "import pandas as pd\n",
    "import typing as t\n",
    "from collections import defaultdict"
   ]
  },
  {
   "cell_type": "markdown",
   "metadata": {},
   "source": [
    "### General function for simple input/output\n"
   ]
  },
  {
   "cell_type": "code",
   "execution_count": null,
   "metadata": {},
   "outputs": [],
   "source": [
    "#| export\n",
    "\n",
    "def input_output_node(*inputs):\n",
    "    \n",
    "    \"\"\"\n",
    "    This is a node for cases where the raw data can be directly passed through without processing steps.\n",
    "    \n",
    "    Accepts multiple inputs and returns them unpacked. If there's only one input, it returns the input itself.\n",
    "    \"\"\"\n",
    "    return inputs[0] if len(inputs) == 1 else inputs"
   ]
  },
  {
   "cell_type": "markdown",
   "metadata": {},
   "source": [
    "### Helper nodes for data transformation"
   ]
  },
  {
   "cell_type": "code",
   "execution_count": null,
   "metadata": {},
   "outputs": [],
   "source": [
    "#| export\n",
    "\n",
    "def convert_hirarchic_to_dict(categories: pd.DataFrame, single_leaf_level=True) -> dict:\n",
    "    \n",
    "    \"\"\"\n",
    "    \n",
    "    This function converts a strictly hirarchic dataframe into a dictioary. Strictly hirarchic means\n",
    "    that each column represents a hirarchy level, and each subcategory belongs to exactly one higher level category.\n",
    "    In the dataframe, each subcategory belongs to exactly one higher level category.\n",
    "\n",
    "    The dictionary is the general form that is used by the write_db_node as input.\n",
    "\n",
    "    Requirements:\n",
    "    - IMPORTANT: This function is only for strictly hierarchical categories, i.e., each subcategory belongs to exactly one higher level category.\n",
    "    - The categories must be in descending order (i.e., the first columns the highest level category, second column is the second highest level category, etc.)\n",
    "    - The column names can carry a name, if required (e.g., \"category\", \"department\", etc.). \n",
    "    - The categories itself will be saved under generic levles (\"1\", \"2\", etc.), but the specific names will be returned in separate list for saving\n",
    "\n",
    "    Inputs:\n",
    "    - categories: A pandas dataframe with the categories. The columns must be in descending order (i.e., the first columns the highest level category, second column is the second highest level category, etc.)\n",
    "    - single_leaf_level: A boolean that indicates if the categories dataframe has only one leaf level. If True, the function will return a dictionary with the leaf level as the last level. If False, leafs may be at different levels.\n",
    "\n",
    "    Outputs:\n",
    "    - mappings: A dictionary with the levels as keys and a dictionary as values. \n",
    "                The dictionary has the category names as keys and list of parents.\n",
    "                This means that the dictionary is more general than the dataframe and is the required input for the write_db_node.\n",
    "    - category_level_names: A list of the column names of the categories dataframe.\n",
    "\n",
    "    \"\"\"\n",
    "\n",
    "    if single_leaf_level:\n",
    "\n",
    "        category_level_names = categories.columns.to_list()\n",
    "        num_levels = len(categories.columns)\n",
    "        mappings = {}\n",
    "\n",
    "        for i in range(num_levels):\n",
    "\n",
    "            if i == 0:\n",
    "\n",
    "                level_cats = categories[category_level_names[i]].astype(str).unique()\n",
    "                level_cats = {cat: None for cat in level_cats}\n",
    "            else:\n",
    "                data = categories.iloc[:, i-1:i+1]\n",
    "                data = data.drop_duplicates()\n",
    "                # Create a defaultdict with lists as the default value type\n",
    "                level_cats = defaultdict(list)\n",
    "\n",
    "                # Populate the dictionary using column index positions\n",
    "                for key, value in zip(data.iloc[:, 1], data.iloc[:, 0]):  # 1 for the second column, 0 for the first column\n",
    "                    if key not in level_cats:\n",
    "                        level_cats[key] = [] # Initialize with an empty list and the leaf value\n",
    "                    level_cats[key].append(value)  # Append the value to the list of parents\n",
    "\n",
    "                # Convert to a regular dict if needed\n",
    "                level_cats = dict(level_cats)\n",
    "\n",
    "            mappings[i+1] = level_cats\n",
    "\n",
    "    else:\n",
    "        raise NotImplementedError(\"Currently only single leaf level is supported.\")\n",
    "    \n",
    "    category_level_names = categories.columns.to_list()\n",
    "    \n",
    "    return mappings, category_level_names"
   ]
  },
  {
   "cell_type": "code",
   "execution_count": null,
   "metadata": {},
   "outputs": [],
   "source": [
    "#| hide\n",
    "import nbdev; nbdev.nbdev_export()"
   ]
  },
  {
   "cell_type": "code",
   "execution_count": null,
   "metadata": {},
   "outputs": [],
   "source": []
  },
  {
   "cell_type": "code",
   "execution_count": null,
   "metadata": {},
   "outputs": [],
   "source": []
  },
  {
   "cell_type": "code",
   "execution_count": null,
   "metadata": {},
   "outputs": [],
   "source": []
  }
 ],
 "metadata": {
  "kernelspec": {
   "display_name": "python3",
   "language": "python",
   "name": "python3"
  },
  "language_info": {
   "name": "python",
   "version": "3.11.10"
  }
 },
 "nbformat": 4,
 "nbformat_minor": 4
}
