{
 "cells": [
  {
   "cell_type": "markdown",
   "metadata": {},
   "source": [
    "# Kedro orchestration\n",
    "\n",
    "> Helper functions to orchestrate Kedro pipelines, e.g., connector functions for database-writing functions"
   ]
  },
  {
   "cell_type": "code",
   "execution_count": null,
   "metadata": {},
   "outputs": [],
   "source": [
    "#| default_exp kedro_orchestration"
   ]
  },
  {
   "cell_type": "code",
   "execution_count": null,
   "metadata": {},
   "outputs": [],
   "source": [
    "#| hide\n",
    "from nbdev.showdoc import *"
   ]
  },
  {
   "cell_type": "code",
   "execution_count": null,
   "metadata": {},
   "outputs": [],
   "source": [
    "#| export"
   ]
  },
  {
   "cell_type": "markdown",
   "metadata": {},
   "source": []
  },
  {
   "cell_type": "code",
   "execution_count": null,
   "metadata": {},
   "outputs": [],
   "source": [
    "#| export\n",
    "\n",
    "def verify_db_write_status(*args: bool) -> bool:\n",
    "    \"\"\"\n",
    "    Consolidates the outputs of all specific functions that write to the database.\n",
    "    Each input represents whether a specific write operation was successful (True) \n",
    "    or not (False). The function returns True only if all inputs are True; \n",
    "    otherwise, it returns False.\n",
    "\n",
    "    This function can be used as a standalone node in a Kedro pipeline\n",
    "\n",
    "    Args:\n",
    "        *args: A variable number of boolean arguments, each indicating the success \n",
    "               of a specific database write operation.\n",
    "\n",
    "    Returns:\n",
    "        bool: True if all operations were successful (all inputs are True), \n",
    "              otherwise False.\n",
    "    \"\"\"\n",
    "    return all(args)"
   ]
  },
  {
   "cell_type": "code",
   "execution_count": null,
   "metadata": {},
   "outputs": [],
   "source": [
    "#| hide\n",
    "import nbdev; nbdev.nbdev_export()"
   ]
  },
  {
   "cell_type": "code",
   "execution_count": null,
   "metadata": {},
   "outputs": [],
   "source": []
  }
 ],
 "metadata": {
  "kernelspec": {
   "display_name": "python3",
   "language": "python",
   "name": "python3"
  }
 },
 "nbformat": 4,
 "nbformat_minor": 4
}
