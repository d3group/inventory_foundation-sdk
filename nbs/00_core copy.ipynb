{
 "cells": [
  {
   "cell_type": "markdown",
   "metadata": {},
   "source": [
    "# test\n",
    "\n",
    "> tes"
   ]
  },
  {
   "cell_type": "code",
   "execution_count": null,
   "metadata": {},
   "outputs": [],
   "source": [
    "#| default_exp test"
   ]
  },
  {
   "cell_type": "code",
   "execution_count": null,
   "metadata": {},
   "outputs": [],
   "source": [
    "#| hide\n",
    "from nbdev.showdoc import *"
   ]
  },
  {
   "cell_type": "code",
   "execution_count": null,
   "metadata": {},
   "outputs": [
    {
     "ename": "ModuleNotFoundError",
     "evalue": "No module named 'db_mgmt'",
     "output_type": "error",
     "traceback": [
      "\u001b[0;31m---------------------------------------------------------------------------\u001b[0m",
      "\u001b[0;31mModuleNotFoundError\u001b[0m                       Traceback (most recent call last)",
      "Cell \u001b[0;32mIn[7], line 15\u001b[0m\n\u001b[1;32m     11\u001b[0m \u001b[38;5;28;01mimport\u001b[39;00m \u001b[38;5;21;01mshutil\u001b[39;00m\n\u001b[1;32m     13\u001b[0m \u001b[38;5;28;01mimport\u001b[39;00m \u001b[38;5;21;01mlogging\u001b[39;00m\n\u001b[0;32m---> 15\u001b[0m \u001b[38;5;28;01mfrom\u001b[39;00m \u001b[38;5;21;01mdb_mgmt\u001b[39;00m \u001b[38;5;28;01mimport\u001b[39;00m get_db_credentials\n",
      "\u001b[0;31mModuleNotFoundError\u001b[0m: No module named 'db_mgmt'"
     ]
    }
   ],
   "source": [
    "# #| export\n",
    "\n",
    "# import pandas as pd\n",
    "# import psycopg2\n",
    "# import typing as t\n",
    "# from tqdm import tqdm\n",
    "\n",
    "# import os\n",
    "# import csv\n",
    "# from tqdm import tqdm\n",
    "# import shutil\n",
    "\n",
    "# import logging\n",
    "\n",
    "# from db_mgmt import get_db_credentials"
   ]
  },
  {
   "cell_type": "code",
   "execution_count": null,
   "metadata": {},
   "outputs": [],
   "source": [
    "# #| export\n",
    "\n",
    "# logger = logging.getLogger(__name__)\n",
    "\n",
    "# def write_company_name(name: str, additional_info: pd.Series = None, ignore_company_if_exist: bool = True) -> int:\n",
    "     \n",
    "#     \"\"\"\n",
    "#     This function writes the company name to the database and any additional info.\n",
    "#     Each key in `additional_info` becomes a column in the database table if it doesn't exist,\n",
    "#     and the associated value is written to that column.\n",
    "    \n",
    "#     If `ignore_company_if_exist` is False and the company name already exists, an error is raised.\n",
    "#     If `ignore_company_if_exist` is True, a warning is logged and the existing record is updated if additional info differs.\n",
    "    \n",
    "#     Returns the ID that the database has assigned to the company name.\n",
    "#     \"\"\"\n",
    "\n",
    "#     db_credentials = get_db_credentials()[\"con\"]\n",
    "\n",
    "#     try:\n",
    "#         with psycopg2.connect(db_credentials) as conn:\n",
    "#             with conn.cursor() as cur:\n",
    "#                 # Try to insert the company name\n",
    "#                 cur.execute(\n",
    "#                     \"\"\"\n",
    "#                     INSERT INTO companies (name)\n",
    "#                     VALUES (%s)\n",
    "#                     ON CONFLICT (name) DO NOTHING\n",
    "#                     RETURNING \"ID\";\n",
    "#                     \"\"\",\n",
    "#                     (name,)\n",
    "#                 )\n",
    "#                 result = cur.fetchone()\n",
    "                \n",
    "#                 if result is None:\n",
    "#                     # Company exists, handle based on ignore_company_if_exist flag\n",
    "#                     cur.execute(\n",
    "#                         \"\"\"\n",
    "#                         SELECT \"ID\" FROM companies WHERE name = %s;\n",
    "#                         \"\"\",\n",
    "#                         (name,)\n",
    "#                     )\n",
    "#                     company_id = cur.fetchone()[0]\n",
    "                    \n",
    "#                     if not ignore_company_if_exist:\n",
    "#                         raise ValueError(f\"Company '{name}' already exists.\")\n",
    "                    \n",
    "#                     logger.warning(\"Company already exists, ignoring new entry\")\n",
    "\n",
    "#                     # Check if additional info needs to be updated\n",
    "#                     if additional_info is not None:\n",
    "#                         for key, value in additional_info.to_dict().items():\n",
    "#                             # Add column if it doesn't exist\n",
    "#                             cur.execute(\n",
    "#                                 f\"\"\"\n",
    "#                                 ALTER TABLE companies\n",
    "#                                 ADD COLUMN IF NOT EXISTS {key} TEXT;\n",
    "#                                 \"\"\"\n",
    "#                             )\n",
    "                            \n",
    "#                             # Check current value before updating\n",
    "#                             cur.execute(\n",
    "#                                 f\"\"\"\n",
    "#                                 SELECT {key} FROM companies WHERE \"ID\" = %s;\n",
    "#                                 \"\"\",\n",
    "#                                 (company_id,)\n",
    "#                             )\n",
    "#                             current_value = cur.fetchone()[0]\n",
    "                            \n",
    "#                             # Only update if the value is different\n",
    "#                             if current_value != value:\n",
    "#                                 logger.warning(f\"Overwriting '{key}' for company '{name}' from '{current_value}' to '{value}'.\")\n",
    "#                                 cur.execute(\n",
    "#                                     f\"\"\"\n",
    "#                                     UPDATE companies\n",
    "#                                     SET {key} = %s\n",
    "#                                     WHERE \"ID\" = %s;\n",
    "#                                     \"\"\",\n",
    "#                                     (value, company_id)\n",
    "#                                 )\n",
    "#                 else:\n",
    "#                     company_id = result[0]\n",
    "                    \n",
    "#                     # Insert additional information for new entry\n",
    "#                     if additional_info is not None:\n",
    "#                         for key, value in additional_info.to_dict().items():\n",
    "#                             # Add column if it doesn't exist\n",
    "#                             cur.execute(\n",
    "#                                 f\"\"\"\n",
    "#                                 ALTER TABLE companies\n",
    "#                                 ADD COLUMN IF NOT EXISTS {key} TEXT;\n",
    "#                                 \"\"\"\n",
    "#                             )\n",
    "#                             # Update the row with the additional information\n",
    "#                             cur.execute(\n",
    "#                                 f\"\"\"\n",
    "#                                 UPDATE companies\n",
    "#                                 SET {key} = %s\n",
    "#                                 WHERE \"ID\" = %s;\n",
    "#                                 \"\"\",\n",
    "#                                 (value, company_id)\n",
    "#                             )\n",
    "                    \n",
    "#     except Exception as e:\n",
    "#         logger.error(f\"Got error while writing company name to database: {e}\")\n",
    "#         raise e\n",
    "\n",
    "#     return company_id"
   ]
  },
  {
   "cell_type": "code",
   "execution_count": null,
   "metadata": {},
   "outputs": [
    {
     "ename": "AssertionError",
     "evalue": "",
     "output_type": "error",
     "traceback": [
      "\u001b[0;31m---------------------------------------------------------------------------\u001b[0m",
      "\u001b[0;31mAssertionError\u001b[0m                            Traceback (most recent call last)",
      "Cell \u001b[0;32mIn[9], line 2\u001b[0m\n\u001b[1;32m      1\u001b[0m \u001b[38;5;66;03m#| hide\u001b[39;00m\n\u001b[0;32m----> 2\u001b[0m \u001b[38;5;28;01mimport\u001b[39;00m \u001b[38;5;21;01mnbdev\u001b[39;00m; nbdev\u001b[38;5;241m.\u001b[39mnbdev_export()\n",
      "File \u001b[0;32m~/miniforge3/envs/inventory_foundation/lib/python3.11/site-packages/fastcore/script.py:112\u001b[0m, in \u001b[0;36mcall_parse.<locals>._f\u001b[0;34m(*args, **kwargs)\u001b[0m\n\u001b[1;32m    109\u001b[0m \u001b[38;5;129m@wraps\u001b[39m(func)\n\u001b[1;32m    110\u001b[0m \u001b[38;5;28;01mdef\u001b[39;00m \u001b[38;5;21m_f\u001b[39m(\u001b[38;5;241m*\u001b[39margs, \u001b[38;5;241m*\u001b[39m\u001b[38;5;241m*\u001b[39mkwargs):\n\u001b[1;32m    111\u001b[0m     mod \u001b[38;5;241m=\u001b[39m inspect\u001b[38;5;241m.\u001b[39mgetmodule(inspect\u001b[38;5;241m.\u001b[39mcurrentframe()\u001b[38;5;241m.\u001b[39mf_back)\n\u001b[0;32m--> 112\u001b[0m     \u001b[38;5;28;01mif\u001b[39;00m \u001b[38;5;129;01mnot\u001b[39;00m mod: \u001b[38;5;28;01mreturn\u001b[39;00m \u001b[43mfunc\u001b[49m\u001b[43m(\u001b[49m\u001b[38;5;241;43m*\u001b[39;49m\u001b[43margs\u001b[49m\u001b[43m,\u001b[49m\u001b[43m \u001b[49m\u001b[38;5;241;43m*\u001b[39;49m\u001b[38;5;241;43m*\u001b[39;49m\u001b[43mkwargs\u001b[49m\u001b[43m)\u001b[49m\n\u001b[1;32m    113\u001b[0m     \u001b[38;5;28;01mif\u001b[39;00m \u001b[38;5;129;01mnot\u001b[39;00m SCRIPT_INFO\u001b[38;5;241m.\u001b[39mfunc \u001b[38;5;129;01mand\u001b[39;00m mod\u001b[38;5;241m.\u001b[39m\u001b[38;5;18m__name__\u001b[39m\u001b[38;5;241m==\u001b[39m\u001b[38;5;124m\"\u001b[39m\u001b[38;5;124m__main__\u001b[39m\u001b[38;5;124m\"\u001b[39m: SCRIPT_INFO\u001b[38;5;241m.\u001b[39mfunc \u001b[38;5;241m=\u001b[39m func\u001b[38;5;241m.\u001b[39m\u001b[38;5;18m__name__\u001b[39m\n\u001b[1;32m    114\u001b[0m     \u001b[38;5;28;01mif\u001b[39;00m \u001b[38;5;28mlen\u001b[39m(sys\u001b[38;5;241m.\u001b[39margv)\u001b[38;5;241m>\u001b[39m\u001b[38;5;241m1\u001b[39m \u001b[38;5;129;01mand\u001b[39;00m sys\u001b[38;5;241m.\u001b[39margv[\u001b[38;5;241m1\u001b[39m]\u001b[38;5;241m==\u001b[39m\u001b[38;5;124m'\u001b[39m\u001b[38;5;124m'\u001b[39m: sys\u001b[38;5;241m.\u001b[39margv\u001b[38;5;241m.\u001b[39mpop(\u001b[38;5;241m1\u001b[39m)\n",
      "File \u001b[0;32m~/miniforge3/envs/inventory_foundation/lib/python3.11/site-packages/nbdev/doclinks.py:155\u001b[0m, in \u001b[0;36mnbdev_export\u001b[0;34m(path, procs, **kwargs)\u001b[0m\n\u001b[1;32m    153\u001b[0m     procs \u001b[38;5;241m=\u001b[39m [\u001b[38;5;28mgetattr\u001b[39m(nbdev\u001b[38;5;241m.\u001b[39mexport, p) \u001b[38;5;28;01mfor\u001b[39;00m p \u001b[38;5;129;01min\u001b[39;00m L(procs)]\n\u001b[1;32m    154\u001b[0m files \u001b[38;5;241m=\u001b[39m nbglob(path\u001b[38;5;241m=\u001b[39mpath, as_path\u001b[38;5;241m=\u001b[39m\u001b[38;5;28;01mTrue\u001b[39;00m, \u001b[38;5;241m*\u001b[39m\u001b[38;5;241m*\u001b[39mkwargs)\u001b[38;5;241m.\u001b[39msorted(\u001b[38;5;124m'\u001b[39m\u001b[38;5;124mname\u001b[39m\u001b[38;5;124m'\u001b[39m)\n\u001b[0;32m--> 155\u001b[0m \u001b[38;5;28;01mfor\u001b[39;00m f \u001b[38;5;129;01min\u001b[39;00m files: \u001b[43mnb_export\u001b[49m\u001b[43m(\u001b[49m\u001b[43mf\u001b[49m\u001b[43m,\u001b[49m\u001b[43m \u001b[49m\u001b[43mprocs\u001b[49m\u001b[38;5;241;43m=\u001b[39;49m\u001b[43mprocs\u001b[49m\u001b[43m)\u001b[49m\n\u001b[1;32m    156\u001b[0m add_init(get_config()\u001b[38;5;241m.\u001b[39mlib_path)\n\u001b[1;32m    157\u001b[0m _build_modidx()\n",
      "File \u001b[0;32m~/miniforge3/envs/inventory_foundation/lib/python3.11/site-packages/nbdev/export.py:92\u001b[0m, in \u001b[0;36mnb_export\u001b[0;34m(nbname, lib_path, procs, name, mod_maker, debug)\u001b[0m\n\u001b[1;32m     90\u001b[0m     \u001b[38;5;28;01mreturn\u001b[39;00m\n\u001b[1;32m     91\u001b[0m mm \u001b[38;5;241m=\u001b[39m mod_maker(dest\u001b[38;5;241m=\u001b[39mlib_path, name\u001b[38;5;241m=\u001b[39mnm, nb_path\u001b[38;5;241m=\u001b[39mnbname, is_new\u001b[38;5;241m=\u001b[39m\u001b[38;5;28mbool\u001b[39m(name) \u001b[38;5;129;01mor\u001b[39;00m mod\u001b[38;5;241m==\u001b[39m\u001b[38;5;124m'\u001b[39m\u001b[38;5;124m#\u001b[39m\u001b[38;5;124m'\u001b[39m)\n\u001b[0;32m---> 92\u001b[0m \u001b[43mmm\u001b[49m\u001b[38;5;241;43m.\u001b[39;49m\u001b[43mmake\u001b[49m\u001b[43m(\u001b[49m\u001b[43mcells\u001b[49m\u001b[43m,\u001b[49m\u001b[43m \u001b[49m\u001b[43mall_cells\u001b[49m\u001b[43m,\u001b[49m\u001b[43m \u001b[49m\u001b[43mlib_path\u001b[49m\u001b[38;5;241;43m=\u001b[39;49m\u001b[43mlib_path\u001b[49m\u001b[43m)\u001b[49m\n",
      "File \u001b[0;32m~/miniforge3/envs/inventory_foundation/lib/python3.11/site-packages/nbdev/maker.py:197\u001b[0m, in \u001b[0;36mmake\u001b[0;34m(self, cells, all_cells, lib_path)\u001b[0m\n\u001b[1;32m    195\u001b[0m     \u001b[38;5;28;01mif\u001b[39;00m \u001b[38;5;129;01mnot\u001b[39;00m lib_path: lib_path \u001b[38;5;241m=\u001b[39m get_config()\u001b[38;5;241m.\u001b[39mlib_path\n\u001b[1;32m    196\u001b[0m     mod_dir \u001b[38;5;241m=\u001b[39m os\u001b[38;5;241m.\u001b[39mpath\u001b[38;5;241m.\u001b[39mrelpath(\u001b[38;5;28mself\u001b[39m\u001b[38;5;241m.\u001b[39mfname\u001b[38;5;241m.\u001b[39mparent, Path(lib_path)\u001b[38;5;241m.\u001b[39mparent)\n\u001b[0;32m--> 197\u001b[0m     \u001b[43m_import2relative\u001b[49m\u001b[43m(\u001b[49m\u001b[43mall_cells\u001b[49m\u001b[43m,\u001b[49m\u001b[43m \u001b[49m\u001b[43mmod_dir\u001b[49m\u001b[43m)\u001b[49m\n\u001b[1;32m    198\u001b[0m \u001b[38;5;28;01mif\u001b[39;00m \u001b[38;5;129;01mnot\u001b[39;00m \u001b[38;5;28mself\u001b[39m\u001b[38;5;241m.\u001b[39mis_new: \u001b[38;5;28;01mreturn\u001b[39;00m \u001b[38;5;28mself\u001b[39m\u001b[38;5;241m.\u001b[39m_make_exists(cells, all_cells)\n\u001b[1;32m    200\u001b[0m \u001b[38;5;28mself\u001b[39m\u001b[38;5;241m.\u001b[39mfname\u001b[38;5;241m.\u001b[39mparent\u001b[38;5;241m.\u001b[39mmkdir(exist_ok\u001b[38;5;241m=\u001b[39m\u001b[38;5;28;01mTrue\u001b[39;00m, parents\u001b[38;5;241m=\u001b[39m\u001b[38;5;28;01mTrue\u001b[39;00m)\n",
      "File \u001b[0;32m~/miniforge3/envs/inventory_foundation/lib/python3.11/site-packages/nbdev/maker.py:176\u001b[0m, in \u001b[0;36m_import2relative\u001b[0;34m(cells, lib_name)\u001b[0m\n\u001b[1;32m    174\u001b[0m \u001b[38;5;124m\"\u001b[39m\u001b[38;5;124mConverts `cells` to use `import2relative` based on `lib_name`\u001b[39m\u001b[38;5;124m\"\u001b[39m\n\u001b[1;32m    175\u001b[0m \u001b[38;5;28;01mif\u001b[39;00m lib_name \u001b[38;5;129;01mis\u001b[39;00m \u001b[38;5;28;01mNone\u001b[39;00m: lib_name \u001b[38;5;241m=\u001b[39m get_config()\u001b[38;5;241m.\u001b[39mlib_name\n\u001b[0;32m--> 176\u001b[0m \u001b[38;5;28;01mfor\u001b[39;00m cell \u001b[38;5;129;01min\u001b[39;00m cells: \u001b[43mcell\u001b[49m\u001b[38;5;241;43m.\u001b[39;49m\u001b[43mimport2relative\u001b[49m\u001b[43m(\u001b[49m\u001b[43mlib_name\u001b[49m\u001b[43m)\u001b[49m\n",
      "File \u001b[0;32m~/miniforge3/envs/inventory_foundation/lib/python3.11/site-packages/nbdev/maker.py:160\u001b[0m, in \u001b[0;36mimport2relative\u001b[0;34m(cell, libname)\u001b[0m\n\u001b[1;32m    158\u001b[0m \u001b[38;5;129m@patch\u001b[39m\n\u001b[1;32m    159\u001b[0m \u001b[38;5;28;01mdef\u001b[39;00m \u001b[38;5;21mimport2relative\u001b[39m(cell:NbCell, libname):\n\u001b[0;32m--> 160\u001b[0m     src \u001b[38;5;241m=\u001b[39m \u001b[43mupdate_import\u001b[49m\u001b[43m(\u001b[49m\u001b[43mcell\u001b[49m\u001b[38;5;241;43m.\u001b[39;49m\u001b[43msource\u001b[49m\u001b[43m,\u001b[49m\u001b[43m \u001b[49m\u001b[43mcell\u001b[49m\u001b[38;5;241;43m.\u001b[39;49m\u001b[43mparsed_\u001b[49m\u001b[43m(\u001b[49m\u001b[43m)\u001b[49m\u001b[43m,\u001b[49m\u001b[43m \u001b[49m\u001b[43mlibname\u001b[49m\u001b[43m)\u001b[49m\n\u001b[1;32m    161\u001b[0m     \u001b[38;5;28;01mif\u001b[39;00m src: cell\u001b[38;5;241m.\u001b[39mset_source(src)\n",
      "File \u001b[0;32m~/miniforge3/envs/inventory_foundation/lib/python3.11/site-packages/nbdev/maker.py:151\u001b[0m, in \u001b[0;36mupdate_import\u001b[0;34m(source, tree, libname, f)\u001b[0m\n\u001b[1;32m    149\u001b[0m src \u001b[38;5;241m=\u001b[39m source\u001b[38;5;241m.\u001b[39msplitlines(\u001b[38;5;28;01mTrue\u001b[39;00m)\n\u001b[1;32m    150\u001b[0m \u001b[38;5;28;01mfor\u001b[39;00m imp \u001b[38;5;129;01min\u001b[39;00m imps:\n\u001b[0;32m--> 151\u001b[0m     nmod \u001b[38;5;241m=\u001b[39m \u001b[43mf\u001b[49m\u001b[43m(\u001b[49m\u001b[43mimp\u001b[49m\u001b[38;5;241;43m.\u001b[39;49m\u001b[43mmodule\u001b[49m\u001b[43m,\u001b[49m\u001b[43m \u001b[49m\u001b[43mlibname\u001b[49m\u001b[43m,\u001b[49m\u001b[43m \u001b[49m\u001b[43mimp\u001b[49m\u001b[38;5;241;43m.\u001b[39;49m\u001b[43mlevel\u001b[49m\u001b[43m)\u001b[49m\n\u001b[1;32m    152\u001b[0m     lin \u001b[38;5;241m=\u001b[39m imp\u001b[38;5;241m.\u001b[39mlineno\u001b[38;5;241m-\u001b[39m\u001b[38;5;241m1\u001b[39m\n\u001b[1;32m    153\u001b[0m     sec \u001b[38;5;241m=\u001b[39m src[lin][imp\u001b[38;5;241m.\u001b[39mcol_offset:imp\u001b[38;5;241m.\u001b[39mend_col_offset]\n",
      "File \u001b[0;32m~/miniforge3/envs/inventory_foundation/lib/python3.11/site-packages/nbdev/maker.py:116\u001b[0m, in \u001b[0;36mrelative_import\u001b[0;34m(name, fname, level)\u001b[0m\n\u001b[1;32m    114\u001b[0m \u001b[38;5;28;01mdef\u001b[39;00m \u001b[38;5;21mrelative_import\u001b[39m(name, fname, level\u001b[38;5;241m=\u001b[39m\u001b[38;5;241m0\u001b[39m):\n\u001b[1;32m    115\u001b[0m     \u001b[38;5;124m\"\u001b[39m\u001b[38;5;124mConvert a module `name` to a name relative to `fname`\u001b[39m\u001b[38;5;124m\"\u001b[39m\n\u001b[0;32m--> 116\u001b[0m     \u001b[38;5;28;01massert\u001b[39;00m \u001b[38;5;129;01mnot\u001b[39;00m level\n\u001b[1;32m    117\u001b[0m     sname \u001b[38;5;241m=\u001b[39m name\u001b[38;5;241m.\u001b[39mreplace(\u001b[38;5;124m'\u001b[39m\u001b[38;5;124m.\u001b[39m\u001b[38;5;124m'\u001b[39m,\u001b[38;5;124m'\u001b[39m\u001b[38;5;124m/\u001b[39m\u001b[38;5;124m'\u001b[39m)\n\u001b[1;32m    118\u001b[0m     \u001b[38;5;28;01mif\u001b[39;00m \u001b[38;5;129;01mnot\u001b[39;00m(os\u001b[38;5;241m.\u001b[39mpath\u001b[38;5;241m.\u001b[39mcommonpath([sname,fname])): \u001b[38;5;28;01mreturn\u001b[39;00m name\n",
      "\u001b[0;31mAssertionError\u001b[0m: "
     ]
    }
   ],
   "source": [
    "#| hide\n",
    "import nbdev; nbdev.nbdev_export()"
   ]
  },
  {
   "cell_type": "code",
   "execution_count": null,
   "metadata": {},
   "outputs": [],
   "source": []
  }
 ],
 "metadata": {
  "kernelspec": {
   "display_name": "python3",
   "language": "python",
   "name": "python3"
  }
 },
 "nbformat": 4,
 "nbformat_minor": 4
}
