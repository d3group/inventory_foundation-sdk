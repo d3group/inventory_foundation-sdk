{
 "cells": [
  {
   "cell_type": "markdown",
   "metadata": {},
   "source": [
    "# States\n",
    "> Classes to manage the state of nodes within kedro pipelines"
   ]
  },
  {
   "cell_type": "code",
   "execution_count": null,
   "metadata": {},
   "outputs": [],
   "source": [
    "#| default_exp state_mgmnt"
   ]
  },
  {
   "cell_type": "code",
   "execution_count": null,
   "metadata": {},
   "outputs": [],
   "source": [
    "#| hide\n",
    "from nbdev.showdoc import *"
   ]
  },
  {
   "cell_type": "code",
   "execution_count": null,
   "metadata": {},
   "outputs": [],
   "source": [
    "#| export\n",
    "\n",
    "import logging\n",
    "\n",
    "class Flag:\n",
    "    \"\"\"\n",
    "    A class to represent a flag with a state that can be checked, set, or retrieved.\n",
    "    \n",
    "    Attributes:\n",
    "        name (str): The name of the flag.\n",
    "        _state (bool or None): The state of the flag. Defaults to None.\n",
    "    \n",
    "    Methods:\n",
    "        check(): Verifies the state of the flag. Raises an error if not set or if False.\n",
    "        set(state): Sets the state of the flag.\n",
    "        get(): Returns the current state of the flag.\n",
    "    \"\"\"\n",
    "    \n",
    "    def __init__(self, name, state=None):\n",
    "        \"\"\"\n",
    "        Initializes the flag with a given name and optional initial state.\n",
    "        \n",
    "        Args:\n",
    "            name (str): The name of the flag.\n",
    "            state (bool or None): The initial state of the flag. Defaults to None.\n",
    "        \"\"\"\n",
    "        self.name = name\n",
    "        self._state = state\n",
    "\n",
    "    def check(self):\n",
    "        \"\"\"\n",
    "        Checks the state of the flag.\n",
    "        \n",
    "        Raises:\n",
    "            ValueError: If the flag's state is None.\n",
    "            AssertionError: If the flag's state is False.\n",
    "        \n",
    "        Logs:\n",
    "            An info message if the flag's state is True.\n",
    "        \"\"\"\n",
    "        if self._state is None:\n",
    "            raise ValueError(f\"Flag '{self.name}' is not set.\")\n",
    "        elif not self._state:  # This checks if the state is False (False, 0, '', etc.)\n",
    "            raise AssertionError(f\"Flag '{self.name}' is False.\")\n",
    "        else:\n",
    "            logging.info(f\"Flag '{self.name}' is True. Everything is good.\")\n",
    "\n",
    "    def set(self, state):\n",
    "        \"\"\"\n",
    "        Sets the state of the flag.\n",
    "        \n",
    "        Args:\n",
    "            state (bool): The new state to set for the flag.\n",
    "        \"\"\"\n",
    "        self._state = state\n",
    "\n",
    "    def get(self):\n",
    "        \"\"\"\n",
    "        Retrieves the current state of the flag.\n",
    "        \n",
    "        Returns:\n",
    "            bool or None: The current state of the flag.\n",
    "        \"\"\"\n",
    "        return self._state\n"
   ]
  },
  {
   "cell_type": "code",
   "execution_count": null,
   "metadata": {},
   "outputs": [],
   "source": [
    "#| export\n",
    "class States:\n",
    "    \"\"\"\n",
    "    A class to manage the states of nodes within the ETL pipeline.\n",
    "    The are verified function checks if all the states have been verified and the corresponding nodes has run successfully.\n",
    "    \"\"\"\n",
    "\n",
    "    @staticmethod\n",
    "    def are_verified(*states: Flag):\n",
    "        \"\"\"\n",
    "        Checks if all the states have been verified.\n",
    "        \"\"\"\n",
    "        return all(state.get() for state in states)\n"
   ]
  },
  {
   "cell_type": "code",
   "execution_count": null,
   "metadata": {},
   "outputs": [],
   "source": [
    "#| hide\n",
    "import nbdev; nbdev.nbdev_export()"
   ]
  }
 ],
 "metadata": {
  "kernelspec": {
   "display_name": "python3",
   "language": "python",
   "name": "python3"
  }
 },
 "nbformat": 4,
 "nbformat_minor": 4
}
